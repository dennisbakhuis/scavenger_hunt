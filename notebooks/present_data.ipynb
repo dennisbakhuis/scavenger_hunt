{
 "cells": [
  {
   "cell_type": "markdown",
   "metadata": {},
   "source": [
    "# Scavenger Hunt for Advanced Analytics"
   ]
  },
  {
   "cell_type": "code",
   "execution_count": 32,
   "metadata": {},
   "outputs": [],
   "source": [
    "import random\n",
    "import math"
   ]
  },
  {
   "cell_type": "code",
   "execution_count": null,
   "metadata": {},
   "outputs": [],
   "source": []
  },
  {
   "cell_type": "code",
   "execution_count": null,
   "metadata": {},
   "outputs": [],
   "source": []
  },
  {
   "cell_type": "markdown",
   "metadata": {
    "vscode": {
     "languageId": "plaintext"
    }
   },
   "source": [
    "### Divide teams into groups."
   ]
  },
  {
   "cell_type": "markdown",
   "metadata": {},
   "source": [
    "#### Are all participants there?"
   ]
  },
  {
   "cell_type": "code",
   "execution_count": 27,
   "metadata": {},
   "outputs": [
    {
     "name": "stdout",
     "output_type": "stream",
     "text": [
      "Participants:\n",
      "-------------\n",
      "1.  Kehan Liu\n",
      "2.  Slavica Lazarevic\n",
      "3.  Sana el Bannani\n",
      "4.  Simon Veldkamp\n",
      "5.  Hariadi Budaya\n",
      "6.  David Hulsman\n",
      "7.  Davide Barbieri\n",
      "8.  Tobias Dekker\n",
      "9.  Bert van Deuveren\n",
      "10. Maurice Ebben\n",
      "11. Clemens Miedendorp de Bie\n",
      "12. Bart Simons\n",
      "13. Laurens Stoop\n",
      "14. Tjeerd Teerlink\n",
      "15. Wouter Tromp\n",
      "16. Joost van Veen\n",
      "17. Arno van de Ven\n",
      "18. Jan Viebahn\n",
      "19. Kevin Vos\n",
      "20. Erik Vrolijk\n",
      "21. Coen van Woerkom\n",
      "22. Johannes Böhner\n",
      "23. Sophie Dietz\n",
      "24. Daniel Jahn\n",
      "25. Thomas Küfner\n",
      "26. Terence Lambert\n",
      "27. Job Groeneveld\n",
      "28. Joao Victor Machado Lima\n",
      "29. Melanie Pleithner\n",
      "30. Niels van Rooij\n",
      "31. Jonas Kraus\n",
      "32. Ivan Khrop\n",
      "33. Andreas Pösch\n",
      "34. Fiona Brendel\n",
      "35. Niels van Harten\n",
      "36. Lotte Hompes\n",
      "37. Christian Knausdorf\n",
      "38. Christian Merz\n"
     ]
    }
   ],
   "source": [
    "with open(\"private_data/participants.txt\", \"r\") as f:\n",
    "    participants = [line.strip() for line in f.readlines() if line and not line.startswith(\"#\")]\n",
    "\n",
    "print(\"Participants:\\n-------------\")\n",
    "for ix, participant in enumerate(participants):\n",
    "    print(f\"{str(ix+1)+'.':<3} {participant}\")"
   ]
  },
  {
   "cell_type": "code",
   "execution_count": null,
   "metadata": {},
   "outputs": [],
   "source": []
  },
  {
   "cell_type": "code",
   "execution_count": null,
   "metadata": {},
   "outputs": [],
   "source": []
  },
  {
   "cell_type": "markdown",
   "metadata": {},
   "source": [
    "#### Divide into groups"
   ]
  },
  {
   "cell_type": "code",
   "execution_count": 30,
   "metadata": {},
   "outputs": [],
   "source": [
    "SEED = 42\n",
    "GROUP_SIZE = 5"
   ]
  },
  {
   "cell_type": "code",
   "execution_count": 33,
   "metadata": {},
   "outputs": [
    {
     "name": "stdout",
     "output_type": "stream",
     "text": [
      "Balanced Random Groups:\n",
      "-----------------------\n",
      "Group 1:\n",
      "  - Bart Simons\n",
      "  - Fiona Brendel\n",
      "  - Clemens Miedendorp de Bie\n",
      "  - Andreas Pösch\n",
      "  - Niels van Harten\n",
      "\n",
      "Group 2:\n",
      "  - Niels van Rooij\n",
      "  - Laurens Stoop\n",
      "  - David Hulsman\n",
      "  - Terence Lambert\n",
      "  - Jonas Kraus\n",
      "\n",
      "Group 3:\n",
      "  - Joao Victor Machado Lima\n",
      "  - Hariadi Budaya\n",
      "  - Maurice Ebben\n",
      "  - Erik Vrolijk\n",
      "  - Simon Veldkamp\n",
      "\n",
      "Group 4:\n",
      "  - Thomas Küfner\n",
      "  - Coen van Woerkom\n",
      "  - Sophie Dietz\n",
      "  - Arno van de Ven\n",
      "  - Christian Merz\n",
      "\n",
      "Group 5:\n",
      "  - Ivan Khrop\n",
      "  - Job Groeneveld\n",
      "  - Kehan Liu\n",
      "  - Christian Knausdorf\n",
      "  - Tjeerd Teerlink\n",
      "\n",
      "Group 6:\n",
      "  - Kevin Vos\n",
      "  - Sana el Bannani\n",
      "  - Lotte Hompes\n",
      "  - Melanie Pleithner\n",
      "  - Daniel Jahn\n",
      "\n",
      "Group 7:\n",
      "  - Johannes Böhner\n",
      "  - Davide Barbieri\n",
      "  - Bert van Deuveren\n",
      "  - Wouter Tromp\n",
      "\n",
      "Group 8:\n",
      "  - Joost van Veen\n",
      "  - Jan Viebahn\n",
      "  - Slavica Lazarevic\n",
      "  - Tobias Dekker\n",
      "\n"
     ]
    }
   ],
   "source": [
    "def print_balanced_groups(participants: list[str], group_size: int, seed: int = None) -> None:\n",
    "    \"\"\"\n",
    "    Print participants divided into balanced random groups of the specified size.\n",
    "\n",
    "    Parameters\n",
    "    ----------\n",
    "    participants : list\n",
    "        List of participant names.\n",
    "    group_size : int\n",
    "        Maximum number of participants per group.\n",
    "    seed : int, optional\n",
    "        Random seed for reproducibility. If None, no seed is set.\n",
    "    \"\"\"\n",
    "    if seed is not None:\n",
    "        random.seed(seed)\n",
    "\n",
    "    shuffled_participants = participants[:]\n",
    "    random.shuffle(shuffled_participants)\n",
    "\n",
    "    num_groups = math.ceil(len(participants) / group_size)\n",
    "    balanced_group_size = len(participants) // num_groups\n",
    "    remainder = len(participants) % num_groups\n",
    "\n",
    "    print(\"Balanced Random Groups:\\n-----------------------\")\n",
    "    group_number = 1\n",
    "    index = 0\n",
    "    for group_idx in range(num_groups):\n",
    "        current_group_size = balanced_group_size + (1 if group_idx < remainder else 0)\n",
    "        group = shuffled_participants[index : index + current_group_size]\n",
    "        print(f\"Group {group_number}:\")\n",
    "        for participant in group:\n",
    "            print(f\"  - {participant}\")\n",
    "        index += current_group_size\n",
    "        group_number += 1\n",
    "        print()\n",
    "\n",
    "\n",
    "print_balanced_groups(participants, GROUP_SIZE, SEED)"
   ]
  },
  {
   "cell_type": "code",
   "execution_count": null,
   "metadata": {},
   "outputs": [],
   "source": []
  },
  {
   "cell_type": "code",
   "execution_count": null,
   "metadata": {},
   "outputs": [],
   "source": []
  }
 ],
 "metadata": {
  "kernelspec": {
   "display_name": "Python 3",
   "language": "python",
   "name": "python3"
  },
  "language_info": {
   "codemirror_mode": {
    "name": "ipython",
    "version": 3
   },
   "file_extension": ".py",
   "mimetype": "text/x-python",
   "name": "python",
   "nbconvert_exporter": "python",
   "pygments_lexer": "ipython3",
   "version": "3.12.5"
  }
 },
 "nbformat": 4,
 "nbformat_minor": 2
}
