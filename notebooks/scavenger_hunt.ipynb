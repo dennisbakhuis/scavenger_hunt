{
 "cells": [
  {
   "cell_type": "markdown",
   "metadata": {},
   "source": [
    "# Scavenger Hunt for Advanced Analytics"
   ]
  },
  {
   "cell_type": "code",
   "execution_count": null,
   "metadata": {},
   "outputs": [],
   "source": [
    "import random\n",
    "import math"
   ]
  },
  {
   "cell_type": "code",
   "execution_count": null,
   "metadata": {},
   "outputs": [],
   "source": []
  },
  {
   "cell_type": "code",
   "execution_count": null,
   "metadata": {},
   "outputs": [],
   "source": []
  },
  {
   "cell_type": "markdown",
   "metadata": {
    "vscode": {
     "languageId": "plaintext"
    }
   },
   "source": [
    "### Divide teams into groups."
   ]
  },
  {
   "cell_type": "markdown",
   "metadata": {},
   "source": [
    "#### Are all participants there?"
   ]
  },
  {
   "cell_type": "code",
   "execution_count": null,
   "metadata": {},
   "outputs": [],
   "source": [
    "with open(\"private_data/participants.txt\", \"r\") as f:\n",
    "    participants = [line.strip() for line in f.readlines() if line and not line.startswith(\"#\")]\n",
    "\n",
    "print(\"Participants:\\n-------------\")\n",
    "for ix, participant in enumerate(participants):\n",
    "    print(f\"{str(ix+1)+'.':<3} {participant}\")"
   ]
  },
  {
   "cell_type": "code",
   "execution_count": null,
   "metadata": {},
   "outputs": [],
   "source": []
  },
  {
   "cell_type": "code",
   "execution_count": null,
   "metadata": {},
   "outputs": [],
   "source": []
  },
  {
   "cell_type": "markdown",
   "metadata": {},
   "source": [
    "#### Divide into groups"
   ]
  },
  {
   "cell_type": "code",
   "execution_count": null,
   "metadata": {},
   "outputs": [],
   "source": [
    "SEED = 42\n",
    "GROUP_SIZE = 5"
   ]
  },
  {
   "cell_type": "code",
   "execution_count": null,
   "metadata": {},
   "outputs": [],
   "source": [
    "def print_balanced_groups(participants: list[str], group_size: int, seed: int = None) -> None:\n",
    "    \"\"\"\n",
    "    Print participants divided into balanced random groups of the specified size.\n",
    "\n",
    "    Parameters\n",
    "    ----------\n",
    "    participants : list\n",
    "        List of participant names.\n",
    "    group_size : int\n",
    "        Maximum number of participants per group.\n",
    "    seed : int, optional\n",
    "        Random seed for reproducibility. If None, no seed is set.\n",
    "    \"\"\"\n",
    "    if seed is not None:\n",
    "        random.seed(seed)\n",
    "\n",
    "    shuffled_participants = participants[:]\n",
    "    random.shuffle(shuffled_participants)\n",
    "\n",
    "    num_groups = math.ceil(len(participants) / group_size)\n",
    "    balanced_group_size = len(participants) // num_groups\n",
    "    remainder = len(participants) % num_groups\n",
    "\n",
    "    print(\"Balanced Random Groups:\\n-----------------------\")\n",
    "    group_number = 1\n",
    "    index = 0\n",
    "    for group_idx in range(num_groups):\n",
    "        current_group_size = balanced_group_size + (1 if group_idx < remainder else 0)\n",
    "        group = shuffled_participants[index : index + current_group_size]\n",
    "        print(f\"Group {group_number}:\")\n",
    "        for participant in group:\n",
    "            print(f\"  - {participant}\")\n",
    "        index += current_group_size\n",
    "        group_number += 1\n",
    "        print()\n",
    "\n",
    "\n",
    "print_balanced_groups(participants, GROUP_SIZE, SEED)"
   ]
  },
  {
   "cell_type": "code",
   "execution_count": null,
   "metadata": {},
   "outputs": [],
   "source": []
  },
  {
   "cell_type": "code",
   "execution_count": null,
   "metadata": {},
   "outputs": [],
   "source": []
  }
 ],
 "metadata": {
  "kernelspec": {
   "display_name": "Python 3 (ipykernel)",
   "language": "python",
   "name": "python3"
  },
  "language_info": {
   "codemirror_mode": {
    "name": "ipython",
    "version": 3
   },
   "file_extension": ".py",
   "mimetype": "text/x-python",
   "name": "python",
   "nbconvert_exporter": "python",
   "pygments_lexer": "ipython3",
   "version": "3.12.5"
  }
 },
 "nbformat": 4,
 "nbformat_minor": 4
}
